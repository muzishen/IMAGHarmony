{
 "cells": [
  {
   "cell_type": "code",
   "execution_count": 33,
   "metadata": {},
   "outputs": [
    {
     "name": "stdout",
     "output_type": "stream",
     "text": [
      "610 193609 100836\n"
     ]
    }
   ],
   "source": [
    "import pandas as pd\n",
    "import numpy as np\n",
    "rating = pd.read_csv(\"./ml-latest-small/ratings.csv\",sep=\",\")\n",
    "num_user = np.max(rating[\"userId\"])\n",
    "num_movie = np.max(rating[\"movieId\"])\n",
    "print(num_user,num_movie,len(rating))"
   ]
  },
  {
   "cell_type": "code",
   "execution_count": 34,
   "metadata": {},
   "outputs": [],
   "source": [
    "import tensorflow.compat.v1 as tf\n",
    "from tensorflow import keras\n",
    "from keras import Model\n",
    "import keras.backend as K\n",
    "from keras.layers import Embedding,Reshape,Input,Dot\n",
    "K.clear_session()\n",
    "def Recmand_model(num_user,num_movie,k):\n",
    "    input_uer = Input(shape=[None,],dtype=\"int32\")\n",
    "    model_uer = Embedding(num_user+1,k,input_length = 1)(input_uer)\n",
    "    model_uer = Reshape((k,))(model_uer)\n",
    "\n",
    "    input_movie = Input(shape=[None,],dtype=\"int32\")\n",
    "    model_movie  = Embedding(num_movie+1,k,input_length = 1)(input_movie)\n",
    "    model_movie = Reshape((k,))(model_movie)\n",
    "\n",
    "    out = Dot(1)([model_uer,model_movie])\n",
    "    model = Model(inputs=[input_uer,input_movie], outputs=out)\n",
    "    model.compile(loss='mse', optimizer='Adam')\n",
    "    model.summary()\n",
    "    return model"
   ]
  },
  {
   "cell_type": "code",
   "execution_count": 35,
   "metadata": {},
   "outputs": [
    {
     "name": "stdout",
     "output_type": "stream",
     "text": [
      "Model: \"model\"\n",
      "__________________________________________________________________________________________________\n",
      " Layer (type)                Output Shape                 Param #   Connected to                  \n",
      "==================================================================================================\n",
      " input_1 (InputLayer)        [(None, None)]               0         []                            \n",
      "                                                                                                  \n",
      " input_2 (InputLayer)        [(None, None)]               0         []                            \n",
      "                                                                                                  \n",
      " embedding (Embedding)       (None, None, 100)            61100     ['input_1[0][0]']             \n",
      "                                                                                                  \n",
      " embedding_1 (Embedding)     (None, None, 100)            1936100   ['input_2[0][0]']             \n",
      "                                                          0                                       \n",
      "                                                                                                  \n",
      " reshape (Reshape)           (None, 100)                  0         ['embedding[0][0]']           \n",
      "                                                                                                  \n",
      " reshape_1 (Reshape)         (None, 100)                  0         ['embedding_1[0][0]']         \n",
      "                                                                                                  \n",
      " dot (Dot)                   (None, 1)                    0         ['reshape[0][0]',             \n",
      "                                                                     'reshape_1[0][0]']           \n",
      "                                                                                                  \n",
      "==================================================================================================\n",
      "Total params: 19422100 (74.09 MB)\n",
      "Trainable params: 19422100 (74.09 MB)\n",
      "Non-trainable params: 0 (0.00 Byte)\n",
      "__________________________________________________________________________________________________\n"
     ]
    }
   ],
   "source": [
    "model = Recmand_model(num_user,num_movie,100)"
   ]
  },
  {
   "cell_type": "code",
   "execution_count": 36,
   "metadata": {},
   "outputs": [],
   "source": [
    "train_user = rating[\"userId\"].values\n",
    "train_movie = rating[\"movieId\"].values\n",
    "train_x = [train_user,train_movie]\n",
    "train_y = rating[\"rating\"].values\n"
   ]
  },
  {
   "cell_type": "code",
   "execution_count": 37,
   "metadata": {},
   "outputs": [
    {
     "name": "stdout",
     "output_type": "stream",
     "text": [
      "Epoch 1/10\n",
      "1009/1009 [==============================] - 172s 170ms/step - loss: 9.3429\n",
      "Epoch 2/10\n",
      "1009/1009 [==============================] - 296s 293ms/step - loss: 1.7214\n",
      "Epoch 3/10\n",
      "1009/1009 [==============================] - 180s 178ms/step - loss: 0.9756\n",
      "Epoch 4/10\n",
      "1009/1009 [==============================] - 157s 155ms/step - loss: 0.7296\n",
      "Epoch 5/10\n",
      "1009/1009 [==============================] - 254s 252ms/step - loss: 0.5845\n",
      "Epoch 6/10\n",
      "1009/1009 [==============================] - 250s 248ms/step - loss: 0.4800\n",
      "Epoch 7/10\n",
      "1009/1009 [==============================] - 157s 156ms/step - loss: 0.4004\n",
      "Epoch 8/10\n",
      "1009/1009 [==============================] - 147s 146ms/step - loss: 0.3340\n",
      "Epoch 9/10\n",
      "1009/1009 [==============================] - 171s 170ms/step - loss: 0.2785\n",
      "Epoch 10/10\n",
      "1009/1009 [==============================] - 153s 152ms/step - loss: 0.2306\n"
     ]
    },
    {
     "data": {
      "text/plain": [
       "<keras.src.callbacks.History at 0x1c1358a4d60>"
      ]
     },
     "execution_count": 37,
     "metadata": {},
     "output_type": "execute_result"
    }
   ],
   "source": [
    "model.fit(train_x,train_y,batch_size = 100,epochs =10)"
   ]
  },
  {
   "cell_type": "code",
   "execution_count": 38,
   "metadata": {},
   "outputs": [
    {
     "name": "stdout",
     "output_type": "stream",
     "text": [
      "1/1 [==============================] - 0s 53ms/step\n"
     ]
    },
    {
     "data": {
      "text/plain": [
       "array([[3.7710922]], dtype=float32)"
      ]
     },
     "execution_count": 38,
     "metadata": {},
     "output_type": "execute_result"
    }
   ],
   "source": [
    "a=np.array([1])\n",
    "b=np.array([1])\n",
    "test=[a,b]\n",
    "model.predict(test)"
   ]
  }
 ],
 "metadata": {
  "kernelspec": {
   "display_name": "emo",
   "language": "python",
   "name": "python3"
  },
  "language_info": {
   "codemirror_mode": {
    "name": "ipython",
    "version": 3
   },
   "file_extension": ".py",
   "mimetype": "text/x-python",
   "name": "python",
   "nbconvert_exporter": "python",
   "pygments_lexer": "ipython3",
   "version": "3.8.8"
  }
 },
 "nbformat": 4,
 "nbformat_minor": 2
}
